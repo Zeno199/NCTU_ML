{
 "cells": [
  {
   "cell_type": "code",
   "execution_count": 1,
   "metadata": {
    "collapsed": false
   },
   "outputs": [],
   "source": [
    "import csv\n",
    "from numpy import *\n",
    "import numpy as np\n",
    "import matplotlib.pyplot as plt\n",
    "from scipy import linalg\n",
    "import math"
   ]
  },
  {
   "cell_type": "code",
   "execution_count": 2,
   "metadata": {
    "collapsed": false
   },
   "outputs": [],
   "source": [
    "def training(X_train, y_train, TARGET_M, regularize = False, lamda = 1):\n",
    "    \n",
    "    x_mat = polynomial_function(X_train, TARGET_M)\n",
    "    \n",
    "    if regularize == True:\n",
    "        X_trans = x_mat.T * x_mat\n",
    "        X_trans = X_trans  + eye(shape(X_trans)[0])*lamda # problem\n",
    "    else:\n",
    "        X_trans = x_mat.T * x_mat\n",
    "    #print(X_trans.shape)\n",
    "    W = linalg.inv(X_trans) * ( x_mat.T* y_train)\n",
    "    \n",
    "    return x_mat, W,  X_trans"
   ]
  },
  {
   "cell_type": "code",
   "execution_count": 3,
   "metadata": {
    "collapsed": true
   },
   "outputs": [],
   "source": [
    "def polynomial_function(data, M ):\n",
    "    \n",
    "    all_mat = []\n",
    "    \n",
    "    for val in data:\n",
    "\n",
    "        val_vector = [ powers(val, i) for i in range(0, M+1)]\n",
    "        all_mat.append(val_vector)   \n",
    "    \n",
    "    all_mat = mat(all_mat)\n",
    "    return all_mat"
   ]
  },
  {
   "cell_type": "code",
   "execution_count": 4,
   "metadata": {
    "collapsed": true
   },
   "outputs": [],
   "source": [
    "def powers(val, power):\n",
    "    \n",
    "    if power == 0:\n",
    "        return 1.0\n",
    "    else:\n",
    "        return np.power(val, power)"
   ]
  },
  {
   "cell_type": "code",
   "execution_count": 5,
   "metadata": {
    "collapsed": true
   },
   "outputs": [],
   "source": [
    "def plot(matX, x_list, y_list, W):\n",
    "\n",
    "    plt.scatter(x_list, y_list,  color='black')\n",
    "\n",
    "    matX = mat(matX)\n",
    "    xcopy = matX.copy()\n",
    "    xcopy.sort(0)\n",
    "\n",
    "    yHat = xcopy*W\n",
    "    plt.plot(xcopy[:, 1], yHat)\n",
    "    plt.show()"
   ]
  },
  {
   "cell_type": "code",
   "execution_count": 6,
   "metadata": {
    "collapsed": false
   },
   "outputs": [],
   "source": [
    "def error_cost(data, W, y_data):\n",
    "    \n",
    "    prediction = data*W\n",
    "    \n",
    "    Erms = prediction - y_data\n",
    "    Erms = np.power(Erms, 2)\n",
    "    Erms = Erms.sum()\n",
    "    Erms = Erms/y_data.shape[0]\n",
    "    Erms = Erms** 0.5\n",
    "    #Erms = np.square( 2*E/ len(y_data))\n",
    "    return Erms"
   ]
  },
  {
   "cell_type": "code",
   "execution_count": 7,
   "metadata": {
    "collapsed": false
   },
   "outputs": [],
   "source": [
    "y_list = []\n",
    "x_list = []\n",
    "with open('./data/4_test.csv', 'r') as csvfile:\n",
    "    spamreader = csv.reader(csvfile, delimiter=' ', quotechar='|')\n",
    "    for row in spamreader:\n",
    "        if 't' in row[0]:\n",
    "            continue\n",
    "        else:\n",
    "            row = row[0].split(',')\n",
    "            y_list.append(double(row[0]))\n",
    "            x_list.append(double(row[1]))\n",
    "\n",
    "X_test = np.array(x_list)\n",
    "y_test = np.array(y_list)\n",
    "y_test = y_test.reshape((len(y_test)), 1)"
   ]
  },
  {
   "cell_type": "code",
   "execution_count": 8,
   "metadata": {
    "collapsed": false
   },
   "outputs": [],
   "source": [
    "y_list = []\n",
    "x_list = []\n",
    "with open('./data/4_train.csv', 'r') as csvfile:\n",
    "    spamreader = csv.reader(csvfile, delimiter=' ', quotechar='|')\n",
    "    for row in spamreader:\n",
    "        if 't' in row[0]:\n",
    "            continue\n",
    "        else:\n",
    "            row = row[0].split(',')\n",
    "            y_list.append(float(row[0]))\n",
    "            x_list.append(float(row[1]))\n",
    "\n",
    "X_train = np.array(x_list)\n",
    "\n",
    "y_train = np.array(y_list)\n",
    "y_train = y_train.reshape((len(y_train)), 1)"
   ]
  },
  {
   "cell_type": "markdown",
   "metadata": {},
   "source": [
    "# (1)  (RMS) error "
   ]
  },
  {
   "cell_type": "code",
   "execution_count": 9,
   "metadata": {
    "collapsed": false
   },
   "outputs": [
    {
     "name": "stdout",
     "output_type": "stream",
     "text": [
      "--M--: 1\n",
      "traning: 2.43625016533\n",
      "testing: 2.55512423758\n",
      "--M--: 2\n",
      "traning: 2.09847079707\n",
      "testing: 2.272433502\n",
      "--M--: 3\n",
      "traning: 2.09426470667\n",
      "testing: 2.20199758179\n",
      "--M--: 4\n",
      "traning: 2.0678005492\n",
      "testing: 2.08337259908\n",
      "--M--: 5\n",
      "traning: 1.11914381432\n",
      "testing: 1.25146852388\n",
      "--M--: 6\n",
      "traning: 1.11663205567\n",
      "testing: 1.21720169346\n",
      "--M--: 7\n",
      "traning: 0.836488442361\n",
      "testing: 1.56119734536\n",
      "--M--: 8\n",
      "traning: 0.816067604019\n",
      "testing: 1.48315795401\n",
      "--M--: 9\n",
      "traning: 0.752874113482\n",
      "testing: 1.55950693899\n"
     ]
    }
   ],
   "source": [
    "train_error = [0]\n",
    "test_error = [0]\n",
    "\n",
    "for M in range(1, 10):\n",
    "    \n",
    "    print('--M--:', M)\n",
    "    train_mat, W,  X_trans = training(X_train, y_train, M)\n",
    "    error = error_cost(train_mat, W, y_train)\n",
    "    train_error.append(error)\n",
    "    \n",
    "    test_mat = polynomial_function(X_test, M)\n",
    "    \n",
    "    error2 = error_cost(test_mat, W, y_test)\n",
    "    test_error.append(error2)\n",
    "    \n",
    "    print('traning:',error)\n",
    "    print('testing:', error2)"
   ]
  },
  {
   "cell_type": "markdown",
   "metadata": {},
   "source": [
    "#  Plot the training and test error for various order M. Explain which order will cause the overfitting problem."
   ]
  },
  {
   "cell_type": "markdown",
   "metadata": {},
   "source": [
    "### Explain: \n",
    "\n",
    "### Overfitting is a problem for training model. It means model fits training data too well, and predict training data, but loses some ability to predict testing data well.  \n",
    "\n",
    "### From the picture below, beginning from M =  6, we can see the curve of testing graudally  goes up, but the curve of testing goes down. Hence, we can say after M >=6, model will cause overfitting problem."
   ]
  },
  {
   "cell_type": "code",
   "execution_count": 10,
   "metadata": {
    "collapsed": false
   },
   "outputs": [
    {
     "data": {
      "image/png": "[encoded data removed]",
      "text/plain": [
       "<matplotlib.figure.Figure at 0x109c84860>"
      ]
     },
     "metadata": {},
     "output_type": "display_data"
    }
   ],
   "source": [
    "p1, = plt.plot(train_error, '-ko', color='blue', label='training')\n",
    "\n",
    "p2, = plt.plot(test_error, '-ko', color='red', label='testing')\n",
    "\n",
    "\n",
    "l1 = plt.legend([p1], [\"training\"], loc=1)\n",
    "l2 = plt.legend([p2], [\"testing\"], loc=3) # this removes l1 from the axes.\n",
    "\n",
    "plt.axis([1, 9, 0, 3])\n",
    "plt.gca().add_artist(l1) # add l1 as a separate artist to the axes\n",
    "\n",
    "plt.xlabel('M')\n",
    "plt.ylabel('ERMS')\n",
    "plt.show()"
   ]
  },
  {
   "cell_type": "markdown",
   "metadata": {},
   "source": [
    "# (3) Considering the regularized error function M= 9"
   ]
  },
  {
   "cell_type": "code",
   "execution_count": 11,
   "metadata": {
    "collapsed": false
   },
   "outputs": [],
   "source": [
    "M = 9 # M =9\n",
    "train_cost = []\n",
    "test_cost = []\n",
    "\n",
    "for lambdas in range(-20, 1 , 1): # lamda from -20 to 0\n",
    "    \n",
    "    lambdas = np.exp(lambdas)\n",
    "    train_mat, W,  X_trans = training(X_train, y_train, M, regularize = True, lamda = lambdas)\n",
    "    test_mat = polynomial_function(X_test, M)\n",
    "    \n",
    "    train_cost.append(error_cost(train_mat, W, y_train))\n",
    "    test_cost.append(error_cost(test_mat, W, y_test))"
   ]
  },
  {
   "cell_type": "code",
   "execution_count": 12,
   "metadata": {
    "collapsed": false
   },
   "outputs": [
    {
     "name": "stdout",
     "output_type": "stream",
     "text": [
      "lamba -20 Regularize train Error: 0.752874113716\n",
      "lamba -19 Regularize train Error: 0.752874114559\n",
      "lamba -18 Regularize train Error: 0.75287411848\n",
      "lamba -17 Regularize train Error: 0.752874134366\n",
      "lamba -16 Regularize train Error: 0.7528742381\n",
      "lamba -15 Regularize train Error: 0.752874930135\n",
      "lamba -14 Regularize train Error: 0.752879867548\n",
      "lamba -13 Regularize train Error: 0.752915231922\n",
      "lamba -12 Regularize train Error: 0.753158725921\n",
      "lamba -11 Regularize train Error: 0.754673897828\n",
      "lamba -10 Regularize train Error: 0.762053274672\n",
      "lamba -9 Regularize train Error: 0.784494718478\n",
      "lamba -8 Regularize train Error: 0.819732432186\n",
      "lamba -7 Regularize train Error: 0.848899327892\n",
      "lamba -6 Regularize train Error: 0.864594666578\n",
      "lamba -5 Regularize train Error: 0.87186337697\n",
      "lamba -4 Regularize train Error: 0.878026160054\n",
      "lamba -3 Regularize train Error: 0.896577325464\n",
      "lamba -2 Regularize train Error: 0.952157341734\n",
      "lamba -1 Regularize train Error: 1.04674033063\n",
      "lamba 0 Regularize train Error: 1.15975212038\n"
     ]
    }
   ],
   "source": [
    "j = -20\n",
    "for i in train_cost:\n",
    "    print('lamba', str(j), 'Regularize train Error:', i)\n",
    "    j+=1"
   ]
  },
  {
   "cell_type": "code",
   "execution_count": 13,
   "metadata": {
    "collapsed": false
   },
   "outputs": [
    {
     "name": "stdout",
     "output_type": "stream",
     "text": [
      "lamba -20 Regularize test Error: 1.5594995584\n",
      "lamba -19 Regularize test Error: 1.55949384801\n",
      "lamba -18 Regularize test Error: 1.55949713981\n",
      "lamba -17 Regularize test Error: 1.5594758397\n",
      "lamba -16 Regularize test Error: 1.55940850778\n",
      "lamba -15 Regularize test Error: 1.5592542269\n",
      "lamba -14 Regularize test Error: 1.55883767344\n",
      "lamba -13 Regularize test Error: 1.55772763526\n",
      "lamba -12 Regularize test Error: 1.55488688011\n",
      "lamba -11 Regularize test Error: 1.54828272525\n",
      "lamba -10 Regularize test Error: 1.53595415442\n",
      "lamba -9 Regularize test Error: 1.52104472888\n",
      "lamba -8 Regularize test Error: 1.51146736193\n",
      "lamba -7 Regularize test Error: 1.50840217647\n",
      "lamba -6 Regularize test Error: 1.50838373598\n",
      "lamba -5 Regularize test Error: 1.51036648172\n",
      "lamba -4 Regularize test Error: 1.51682000336\n",
      "lamba -3 Regularize test Error: 1.53626418763\n",
      "lamba -2 Regularize test Error: 1.58387324697\n",
      "lamba -1 Regularize test Error: 1.66047322911\n",
      "lamba 0 Regularize test Error: 1.74205665059\n"
     ]
    }
   ],
   "source": [
    "j = -20\n",
    "for i in test_cost:\n",
    "    print('lamba', str(j), 'Regularize test Error:', i)\n",
    "    j+=1"
   ]
  },
  {
   "cell_type": "code",
   "execution_count": null,
   "metadata": {
    "collapsed": true
   },
   "outputs": [],
   "source": []
  },
  {
   "cell_type": "code",
   "execution_count": 14,
   "metadata": {
    "collapsed": false
   },
   "outputs": [
    {
     "data": {
      "image/png": "[encoded data removed]",
      "text/plain": [
       "<matplotlib.figure.Figure at 0x109e3a320>"
      ]
     },
     "metadata": {},
     "output_type": "display_data"
    }
   ],
   "source": [
    "train_len = [ i for i in range(-20, 1, 1)]\n",
    "fig = plt.figure()\n",
    "\n",
    "ax1 = fig.add_subplot(111)\n",
    "ax1.plot(train_len, train_cost, 'b', label = 'trainging')\n",
    "\n",
    "ax2 = ax1.twiny()\n",
    "ax2.plot(train_len, test_cost, 'r', label = 'testing')\n",
    "\n",
    "plt.xlabel('log lambda')\n",
    "plt.ylabel('ERMS')\n",
    "\n",
    "plt.axis([-20, 1, 0, 2])\n",
    "\n",
    "plt.legend()\n",
    "plt.show()"
   ]
  },
  {
   "cell_type": "code",
   "execution_count": null,
   "metadata": {
    "collapsed": true
   },
   "outputs": [],
   "source": []
  }
 ],
 "metadata": {
  "kernelspec": {
   "display_name": "Python 3",
   "language": "python",
   "name": "python3"
  },
  "language_info": {
   "codemirror_mode": {
    "name": "ipython",
    "version": 3
   },
   "file_extension": ".py",
   "mimetype": "text/x-python",
   "name": "python",
   "nbconvert_exporter": "python",
   "pygments_lexer": "ipython3",
   "version": "3.5.2"
  }
 },
 "nbformat": 4,
 "nbformat_minor": 2
}
