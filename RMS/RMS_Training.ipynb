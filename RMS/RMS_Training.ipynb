{
 "cells": [
  {
   "cell_type": "code",
   "execution_count": 1,
   "metadata": {
    "collapsed": true
   },
   "outputs": [],
   "source": [
    "from numpy import *\n",
    "import numpy as np\n",
    "from scipy import linalg\n",
    "import math\n",
    "import scipy.io as sio   "
   ]
  },
  {
   "cell_type": "markdown",
   "metadata": {},
   "source": [
    "# Loda Data"
   ]
  },
  {
   "cell_type": "code",
   "execution_count": 2,
   "metadata": {
    "collapsed": true
   },
   "outputs": [],
   "source": [
    "TARGET = sio.loadmat('./data/5_T.mat')['T'] \n",
    "DATA =  sio.loadmat('./data/5_X.mat')['X']"
   ]
  },
  {
   "cell_type": "code",
   "execution_count": 3,
   "metadata": {
    "collapsed": false
   },
   "outputs": [],
   "source": [
    "traning_set_X = np.concatenate( (np.concatenate((DATA[:40], DATA[50:90]), axis = 0), DATA[100:140]), axis = 0 )\n",
    "traning_set_y = np.concatenate( (np.concatenate((TARGET[:40], TARGET[50:90]), axis = 0), TARGET[100:140]), axis = 0 )"
   ]
  },
  {
   "cell_type": "code",
   "execution_count": 4,
   "metadata": {
    "collapsed": true
   },
   "outputs": [],
   "source": [
    "testing_set_X = np.concatenate( (np.concatenate((DATA[40:50], DATA[90:100]), axis = 0), DATA[140:150]), axis = 0 )\n",
    "testing_set_y = np.concatenate( (np.concatenate((TARGET[40:50], TARGET[90:100]), axis = 0), TARGET[140:150]), axis = 0 )"
   ]
  },
  {
   "cell_type": "markdown",
   "metadata": {},
   "source": [
    "# (1)\n",
    "\n",
    "## In the training stage, please apply polynomials of order M=1 and M=2 over the 4-dimensional input data. Please evaluate the corresponding RMS error on the Training Set and Test Set.\n"
   ]
  },
  {
   "cell_type": "code",
   "execution_count": 5,
   "metadata": {
    "collapsed": true
   },
   "outputs": [],
   "source": [
    "def training(x_mat, y_train, regularize = False, lamda = 1):\n",
    "    \n",
    "    if regularize == True:\n",
    "        X_trans = x_mat.T * x_mat + eye(len(x_mat[0]))*lamda\n",
    "    else:\n",
    "        X_trans = x_mat.T * x_mat\n",
    "\n",
    "    W = linalg.inv(X_trans) * ( x_mat.T* y_train)\n",
    "    \n",
    "    return  W,  X_trans"
   ]
  },
  {
   "cell_type": "code",
   "execution_count": 6,
   "metadata": {
    "collapsed": true
   },
   "outputs": [],
   "source": [
    "def powers(val, power):\n",
    "    \n",
    "    if power == 0:\n",
    "        return 1.0\n",
    "    else:\n",
    "        return np.power(val, power)"
   ]
  },
  {
   "cell_type": "code",
   "execution_count": 7,
   "metadata": {
    "collapsed": true
   },
   "outputs": [],
   "source": [
    "def error_cost(data, W, y_data):\n",
    "    \n",
    "    prediction = data*W\n",
    "    \n",
    "    Erms = prediction - y_data\n",
    "    Erms = np.power(Erms, 2)\n",
    "    Erms = Erms.sum()\n",
    "    Erms = Erms/y_data.shape[0]\n",
    "    Erms = Erms** 0.5\n",
    "    #Erms = np.square( 2*E/ len(y_data))\n",
    "    return Erms"
   ]
  },
  {
   "cell_type": "code",
   "execution_count": 8,
   "metadata": {
    "collapsed": true
   },
   "outputs": [],
   "source": [
    "# M = 1\n",
    "def M1(DATA):\n",
    "    \n",
    "    x_mat = []\n",
    "    \n",
    "    for x_data in DATA:\n",
    "        x_mat.append(np.concatenate((np.array([float(1.0)]), x_data), axis = 0))\n",
    "    x_mat = mat(x_mat)\n",
    "    \n",
    "    return x_mat"
   ]
  },
  {
   "cell_type": "code",
   "execution_count": 9,
   "metadata": {
    "collapsed": false
   },
   "outputs": [],
   "source": [
    "# M = 2\n",
    "def M2(DATA):\n",
    "    \n",
    "    x_mat = []\n",
    "    for x_data in DATA:\n",
    "\n",
    "        fst_order = np.concatenate((np.array([float(1.0)]), x_data), axis = 0)\n",
    "        second_order = np.power(x_data, 2)\n",
    "        coeff = []\n",
    "        for number in range(0, len(x_data)-1):\n",
    "            for number_plus in range(number+1, len(x_data)):\n",
    "                coeff.append(x_data[number]*x_data[number_plus])\n",
    "        coeff = np.array(coeff)\n",
    "        record = np.concatenate((np.concatenate((fst_order, coeff), axis = 0), second_order), axis = 0)\n",
    "        x_mat.append(record)\n",
    "\n",
    "    x_mat = mat(x_mat)\n",
    "    return x_mat"
   ]
  },
  {
   "cell_type": "code",
   "execution_count": 10,
   "metadata": {
    "collapsed": true
   },
   "outputs": [],
   "source": [
    "# M = 1\n",
    "def M1(DATA):\n",
    "    \n",
    "    x_mat = []\n",
    "    \n",
    "    for x_data in DATA:\n",
    "        x_mat.append(np.concatenate((np.array([float(1.0)]), x_data), axis = 0))\n",
    "    x_mat = mat(x_mat)\n",
    "    \n",
    "    return x_mat"
   ]
  },
  {
   "cell_type": "markdown",
   "metadata": {},
   "source": [
    "# order M=1  Error"
   ]
  },
  {
   "cell_type": "code",
   "execution_count": 11,
   "metadata": {
    "collapsed": false
   },
   "outputs": [
    {
     "name": "stdout",
     "output_type": "stream",
     "text": [
      "M1: training error: 0.226279143015\n"
     ]
    }
   ],
   "source": [
    "# M1\n",
    "\n",
    "x_traning = M1(traning_set_X)\n",
    "W, X_trans = training(x_traning, traning_set_y)\n",
    "print('M1: training error:', error_cost(x_traning, W, traning_set_y))"
   ]
  },
  {
   "cell_type": "code",
   "execution_count": 12,
   "metadata": {
    "collapsed": false
   },
   "outputs": [
    {
     "name": "stdout",
     "output_type": "stream",
     "text": [
      "M1: testing error: 0.171124893337\n"
     ]
    }
   ],
   "source": [
    "x_testing = M1(testing_set_X)\n",
    "\n",
    "error_cost(x_testing, W, testing_set_X)\n",
    "print('M1: testing error:', error_cost(x_testing, W, testing_set_y))"
   ]
  },
  {
   "cell_type": "markdown",
   "metadata": {},
   "source": [
    "# order M=2 Error "
   ]
  },
  {
   "cell_type": "code",
   "execution_count": 13,
   "metadata": {
    "collapsed": false
   },
   "outputs": [
    {
     "name": "stdout",
     "output_type": "stream",
     "text": [
      "M2: training error: 0.188594629096\n"
     ]
    }
   ],
   "source": [
    "# M2 traing\n",
    "\n",
    "x_traing = M2(traning_set_X)\n",
    "W, X_trans = training(x_traing, traning_set_y)\n",
    "\n",
    "error_cost(x_traing, W, traning_set_y)\n",
    "print('M2: training error:', error_cost(x_traing, W, traning_set_y))"
   ]
  },
  {
   "cell_type": "code",
   "execution_count": 14,
   "metadata": {
    "collapsed": false
   },
   "outputs": [
    {
     "name": "stdout",
     "output_type": "stream",
     "text": [
      "M2: testing error: 0.153232445346\n"
     ]
    }
   ],
   "source": [
    "# testing\n",
    "x_testing = M2(testing_set_X)\n",
    "error_cost(x_testing, W, testing_set_y)\n",
    "print('M2: testing error:', error_cost(x_testing, W, testing_set_y))"
   ]
  },
  {
   "cell_type": "markdown",
   "metadata": {},
   "source": [
    "# (2)\n",
    "\n",
    "## Please apply polynomials of order M=2 and select the most contributive attribute which has the lowest RMS error on the Training Set."
   ]
  },
  {
   "cell_type": "code",
   "execution_count": 15,
   "metadata": {
    "collapsed": false
   },
   "outputs": [
    {
     "name": "stdout",
     "output_type": "stream",
     "text": [
      "sepal length M2: training error: 0.510306458755\n"
     ]
    }
   ],
   "source": [
    "# M2 traing\n",
    "\n",
    "x_traing = M2(traning_set_X[:, [0]])\n",
    "W, X_trans = training(x_traing, traning_set_y)\n",
    "\n",
    "error_cost(x_traing, W, traning_set_y)\n",
    "print('sepal length M2: training error:', error_cost(x_traing, W, traning_set_y))"
   ]
  },
  {
   "cell_type": "code",
   "execution_count": 16,
   "metadata": {
    "collapsed": false
   },
   "outputs": [
    {
     "name": "stdout",
     "output_type": "stream",
     "text": [
      "sepal width M2: training error: 0.721246737625\n"
     ]
    }
   ],
   "source": [
    "# M2 traing\n",
    "\n",
    "x_traing = M2(traning_set_X[:, [1]])\n",
    "W, X_trans = training(x_traing, traning_set_y)\n",
    "\n",
    "error_cost(x_traing, W, traning_set_y)\n",
    "print('sepal width M2: training error:', error_cost(x_traing, W, traning_set_y))"
   ]
  },
  {
   "cell_type": "code",
   "execution_count": 17,
   "metadata": {
    "collapsed": false
   },
   "outputs": [
    {
     "name": "stdout",
     "output_type": "stream",
     "text": [
      "petal length M2: training error: 0.259328194102\n"
     ]
    }
   ],
   "source": [
    "# M2 traing\n",
    "\n",
    "x_traing = M2(traning_set_X[:, [2]])\n",
    "W, X_trans = training(x_traing, traning_set_y)\n",
    "\n",
    "error_cost(x_traing, W, traning_set_y)\n",
    "print('petal length M2: training error:', error_cost(x_traing, W, traning_set_y))"
   ]
  },
  {
   "cell_type": "code",
   "execution_count": 18,
   "metadata": {
    "collapsed": false
   },
   "outputs": [
    {
     "name": "stdout",
     "output_type": "stream",
     "text": [
      "petal width M2: training error: 0.251275786023\n"
     ]
    }
   ],
   "source": [
    "# M2 traing\n",
    "\n",
    "x_traing = M2(traning_set_X[:, [3]])\n",
    "W, X_trans = training(x_traing, traning_set_y)\n",
    "\n",
    "error_cost(x_traing, W, traning_set_y)\n",
    "print('petal width M2: training error:', error_cost(x_traing, W, traning_set_y))"
   ]
  },
  {
   "cell_type": "markdown",
   "metadata": {},
   "source": [
    "## Lowest Training Set error  is petal width > petal length > sepal width > sepal length. Hence,  petal is   most contributive attribute."
   ]
  },
  {
   "cell_type": "code",
   "execution_count": null,
   "metadata": {
    "collapsed": true
   },
   "outputs": [],
   "source": []
  }
 ],
 "metadata": {
  "kernelspec": {
   "display_name": "Python 3",
   "language": "python",
   "name": "python3"
  },
  "language_info": {
   "codemirror_mode": {
    "name": "ipython",
    "version": 3
   },
   "file_extension": ".py",
   "mimetype": "text/x-python",
   "name": "python",
   "nbconvert_exporter": "python",
   "pygments_lexer": "ipython3",
   "version": "3.5.2"
  }
 },
 "nbformat": 4,
 "nbformat_minor": 2
}
