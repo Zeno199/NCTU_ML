{
 "cells": [
  {
   "cell_type": "code",
   "execution_count": 42,
   "metadata": {
    "collapsed": false
   },
   "outputs": [],
   "source": [
    "import numpy as np\n",
    "import pandas as pd\n",
    "import matplotlib.pyplot as plt\n",
    "from scipy import linalg\n",
    "import copy"
   ]
  },
  {
   "cell_type": "code",
   "execution_count": 43,
   "metadata": {
    "collapsed": false
   },
   "outputs": [
    {
     "name": "stdout",
     "output_type": "stream",
     "text": [
      "[[5.0 3.3 1.4 0.2 0]\n",
      " [6.4 2.8 5.6 2.2 2]\n",
      " [6.5 2.8 4.6 1.5 1]\n",
      " [6.7 3.1 5.6 2.4 2]\n",
      " [6.3 2.8 5.1 1.5 2]]\n"
     ]
    }
   ],
   "source": [
    "data = pd.read_csv('Iris_data.csv')\n",
    "data = data.values\n",
    "\n",
    "IRIS2ID = dict()\n",
    "\n",
    "for index,sss in enumerate(np.unique(data[:,4])):\n",
    "    IRIS2ID[sss] = index\n",
    "    \n",
    "for i in range(len(data)):\n",
    "    data[i][4] = IRIS2ID[data[i][4]]\n",
    "print(data[:5])\n"
   ]
  },
  {
   "cell_type": "code",
   "execution_count": 44,
   "metadata": {
    "collapsed": false
   },
   "outputs": [],
   "source": [
    "X = data[:, :4]\n",
    "y = data[:, 4]"
   ]
  },
  {
   "cell_type": "code",
   "execution_count": 45,
   "metadata": {
    "collapsed": true
   },
   "outputs": [],
   "source": [
    "# one vs one\n",
    "def onevone(X,y,i,j):\n",
    "    \n",
    "    X_train = []\n",
    "    y_train = []\n",
    "    \n",
    "    for idx in range(len(X)):\n",
    "        if y[idx] == i or y[idx] == j:\n",
    "            X_train.append(X[idx])\n",
    "            if y[idx] == i:\n",
    "                y_train.append(1)\n",
    "            else:\n",
    "                y_train.append(-1)\n",
    "                \n",
    "    X_train = np.array(X_train)\n",
    "    y_train = np.array(y_train)\n",
    "    return X_train, y_train"
   ]
  },
  {
   "cell_type": "code",
   "execution_count": 46,
   "metadata": {
    "collapsed": false
   },
   "outputs": [],
   "source": [
    "class SVM(object):\n",
    "    def __init__(self, X, y, polydegree, types):\n",
    "        \n",
    "        \n",
    "        self.X = X\n",
    "        self.y = y\n",
    "        self.types = types\n",
    "        self.poly = polydegree\n",
    "        self.kerneldict = {'linear': self.linear, 'poly': self.poly_function}\n",
    "        self.kernel = self.kerneldict[types]\n",
    "        \n",
    "        \n",
    "        self.weights = np.zeros(self.X.shape[1])\n",
    "        self.bias = 0.0\n",
    "        \n",
    "        self.alpha = np.zeros(len(self.X))\n",
    "        \n",
    "        self.C = 1\n",
    "        self.tol = 1e-2\n",
    "        self.iteration = 1000\n",
    "        \n",
    "        self.post_bias = np.array([None]*len(self.X))\n",
    "        self.bias_mean = None\n",
    "        self.bias_stdev = None\n",
    "        \n",
    "    def train(self):\n",
    "        \n",
    "        changed_alphas = 1\n",
    "        \n",
    "        iteration = 0\n",
    "        \n",
    "        while changed_alphas > 0:\n",
    "            \n",
    "            changed_alphas = 0\n",
    "            \n",
    "            kkt1, kkt2 = self.KKT2()\n",
    "            for i in range(0, len(self.X)):\n",
    "                if kkt1[i] or kkt2[i]: # violate multiplier\n",
    "                    j = np.random.randint(1, len(self.X)) % len(self.X)\n",
    "                    changed_alphas += self.updateAlpha(i, j)\n",
    "                     \n",
    "            iteration += 1\n",
    "            \n",
    "            if (iteration >0 and (iteration%100 == 0 or iteration == self.iteration or changed_alphas == 0) ):\n",
    "                if self.types == 'poly':\n",
    "                    train_err = np.average( self.y != np.sign(self.f())[0])\n",
    "                else:\n",
    "                    train_err = np.average( self.y != np.sign(self.f()))\n",
    "                print(\"Iter %d: train acc, %3f\" %(iteration, 1.0-train_err))\n",
    "\n",
    "                \n",
    "            if iteration == self.iteration:\n",
    "                break\n",
    "        \n",
    "        self.posterior_bias()\n",
    "    \n",
    "    \n",
    "    \n",
    "    def posterior_bias(self):\n",
    "\n",
    "        pos_alpha = self.alpha > 0\n",
    "        smallerc_alpha= self.alpha < self.C\n",
    "        non_bound =  pos_alpha == smallerc_alpha\n",
    "        non_bound = np.where(non_bound)[0]\n",
    "        \n",
    "        if len(non_bound): \n",
    "            E = self.y - self.f()\n",
    "            if self.types == 'poly':\n",
    "                E = E[0]\n",
    "            biases = E[non_bound]\n",
    "            self.post_bias[non_bound] = E[non_bound]\n",
    "            self.bias_mean = np.mean(biases)\n",
    "            self.bias_stdev = np.sqrt(np.sum((biases - self.bias_mean)**2) / (len(biases) - 1))\n",
    "            \n",
    "    def linear(self, X, y):\n",
    "        return np.dot(X, y)\n",
    "    \n",
    "    def poly_function(self, X, y):\n",
    "        return (np.dot(X, y.transpose()))**self.poly\n",
    "    \n",
    "    def updateAlpha(self,i, j): # not change\n",
    "        \n",
    "        if i ==j :\n",
    "            return False\n",
    "        \n",
    "        E_value = self.f() - self.y\n",
    "        if self.types =='poly':\n",
    "            E_value = E_value[0]\n",
    "        \n",
    "        Ei = E_value[i]\n",
    "        Ej = E_value[j]\n",
    "        \n",
    "        alphai = self.alpha[i]\n",
    "        alphaj = self.alpha[j]\n",
    "        \n",
    "        xi, xj, yi, yj = self.X[i], self.X[j], self.y[i], self.y[j]\n",
    "        \n",
    "        if yi == yj:\n",
    "            L = max(0, alphai + alphaj - self.C)\n",
    "            H = min(self.C, alphai + alphaj)\n",
    "        else:\n",
    "            L = max(0, alphaj - alphai)\n",
    "            H = min(self.C, self.C + alphaj - alphai)\n",
    "        \n",
    "        if L == H:\n",
    "            return False\n",
    "        \n",
    "        eta = self.kernel(xi, xi) + self.kernel(xj, xj) - 2*self.kernel(xi, xj)\n",
    "        \n",
    "        if eta <= 0:\n",
    "            return False\n",
    "        \n",
    "        alphaj_new = alphaj + yj*(Ei - Ej) / eta\n",
    "        \n",
    "        if alphaj_new < L:\n",
    "            alphaj_new = L\n",
    "        \n",
    "        if alphaj_new > H:\n",
    "            alphaj_new = H\n",
    "        \n",
    "        alphai_new = alphai + yi*yj*(alphaj - alphaj_new)\n",
    "        \n",
    "        delta_ai = alphai_new - alphai\n",
    "        delta_aj = alphaj_new - alphaj\n",
    "        \n",
    "        if self.types == 'linear':\n",
    "            self.weights = self.weights + delta_ai*yi*xi + delta_aj*yj*xj\n",
    "         \n",
    "        # stop\n",
    "        bi = self.bias - Ei - delta_ai*yi*self.kernel(xi, xi) - delta_aj*yj*self.kernel(xi, xj)\n",
    "        bj = self.bias - Ej - delta_ai*yi*self.kernel(xi, xj) - delta_aj*yj*self.kernel(xj, xj)\n",
    "        \n",
    "        self.bias = (bi + bj)/2\n",
    "        if (alphai_new > 0 and alphai_new < self.C):\n",
    "            self.bias = bi\n",
    "        if (alphaj_new > 0 and alphaj_new < self.C):\n",
    "            self.bias = bj\n",
    "            \n",
    "        self.alpha[i] = alphai_new\n",
    "        self.alpha[j] = alphaj_new\n",
    "        \n",
    "        return True\n",
    "    \n",
    "    def f(self):\n",
    "        \n",
    "        if self.bias_mean:\n",
    "            b = self.bias_mean\n",
    "        else:\n",
    "            b = self.bias\n",
    "       \n",
    "        if self.types == 'linear':\n",
    "            return self.kernel(self.X, self.weights) + b\n",
    "        else:\n",
    "            return np.array([np.dot(self.alpha*self.y, self.kernel(self.X, self.X)) + b ])\n",
    "    \n",
    "    def KKT2(self):\n",
    "        \n",
    "        R = self.y*(self.f() - self.y)\n",
    "        if self.types == 'poly':\n",
    "            R = R[0]\n",
    "        \n",
    "        kkt1 = R < -self.tol\n",
    "        kkt1_2 = self.alpha < self.C\n",
    "        kkt1 = kkt1 == kkt1_2 # and\n",
    "        \n",
    "        kkt2 = R > self.tol\n",
    "        kkt2_1 = self.alpha > 0\n",
    "        kkt2 = kkt2 == kkt2_1\n",
    "        \n",
    "        return kkt1, kkt2\n",
    "        "
   ]
  },
  {
   "cell_type": "code",
   "execution_count": 47,
   "metadata": {
    "collapsed": false
   },
   "outputs": [
    {
     "name": "stdout",
     "output_type": "stream",
     "text": [
      "********************************************************************************\n",
      "label: 0, label: 1\n",
      "Iter 100: train acc, 0.990000\n",
      "Iter 152: train acc, 1.000000\n",
      "********************************************************************************\n",
      "label: 0, label: 2\n",
      "Iter 100: train acc, 0.990000\n",
      "Iter 193: train acc, 0.990000\n",
      "********************************************************************************\n",
      "label: 1, label: 2\n",
      "Iter 71: train acc, 0.730000\n"
     ]
    }
   ],
   "source": [
    "X_two = X[:,:2]\n",
    "\n",
    "weights = []\n",
    "bias = []\n",
    "for i in range(2):\n",
    "    for j in range(i+1,3):\n",
    "        X_train,y_train =  onevone(X_two,y,i,j)\n",
    "        print('*'*80)\n",
    "        print('label: %d, label: %d' % (i, j))\n",
    "        svm = SVM(X_train,y_train,polydegree =2, types = 'linear')\n",
    "        svm.train() \n",
    "        weights.append(svm.weights)\n",
    "        bias.append(svm.bias)"
   ]
  },
  {
   "cell_type": "code",
   "execution_count": 48,
   "metadata": {
    "collapsed": true
   },
   "outputs": [],
   "source": [
    "def meshgrid(x1, x2):\n",
    "\n",
    "    x_min, x_max = x1.min() - 1, x1.max() + 1\n",
    "    y_min, y_max = x2.min() - 1, x2.max() + 1\n",
    "    x_pos, y_pos = np.meshgrid(np.arange(x_min, x_max, 0.03), np.arange(y_min, y_max, 0.03))\n",
    "    return x_pos, y_pos"
   ]
  },
  {
   "cell_type": "code",
   "execution_count": 49,
   "metadata": {
    "collapsed": true
   },
   "outputs": [],
   "source": [
    "def predict(x_pos, y_pos, ij, weights, bias, x_train = None, types = 'linear'):\n",
    "    classification = []\n",
    "    X_t = []\n",
    "    y_t = []\n",
    "    if types == 'poly':\n",
    "        for idex in range(3):\n",
    "            x_split, y_split = onevone(x_train, y, ij[idex][0], ij[idex][1])\n",
    "            X_t.append(x_split)\n",
    "            y_t.append(y_split)\n",
    "        \n",
    "    for x1,x2 in zip(x_pos.ravel(), y_pos.ravel()):\n",
    "        pred = [0,0,0]\n",
    "        for i in range(3):\n",
    "            if types == 'poly':\n",
    "                val = poly(weights[i], bias[i], [x1,x2], X_t[i], y_t[i], 2)\n",
    "            else:\n",
    "                val = np.dot([x1,x2], weights[i])+ bias[i]\n",
    "            val = np.sign(val)\n",
    "            if val >=0:\n",
    "                pred[ij[i][0]]+= 1\n",
    "            else:\n",
    "                pred[ij[i][1]]+= 1\n",
    "        classification.append(pred)\n",
    "    classification = np.argmax(classification, axis=1)\n",
    "    classification = classification.reshape(x_pos.shape)\n",
    "    return classification"
   ]
  },
  {
   "cell_type": "markdown",
   "metadata": {},
   "source": [
    "# (1)"
   ]
  },
  {
   "cell_type": "code",
   "execution_count": 50,
   "metadata": {
    "collapsed": true
   },
   "outputs": [],
   "source": [
    "truth = [[],[],[]]\n",
    "truth[0] = X_two[ np.where(y==0)]\n",
    "truth[1] = X_two[ np.where(y==1)]\n",
    "truth[2] = X_two[ np.where(y==2)]"
   ]
  },
  {
   "cell_type": "code",
   "execution_count": null,
   "metadata": {
    "collapsed": false
   },
   "outputs": [
    {
     "name": "stderr",
     "output_type": "stream",
     "text": [
      "/usr/local/lib/python3.5/site-packages/numpy/ma/core.py:6385: MaskedArrayFutureWarning: In the future the default for ma.minimum.reduce will be axis=0, not the current None, to match np.minimum.reduce. Explicitly pass 0 or None to silence this warning.\n",
      "  return self.reduce(a)\n",
      "/usr/local/lib/python3.5/site-packages/numpy/ma/core.py:6385: MaskedArrayFutureWarning: In the future the default for ma.maximum.reduce will be axis=0, not the current None, to match np.maximum.reduce. Explicitly pass 0 or None to silence this warning.\n",
      "  return self.reduce(a)\n"
     ]
    },
    {
     "data": {
      "image/png": "[encoded data removed]",
      "text/plain": [
       "<matplotlib.figure.Figure at 0x1131fd320>"
      ]
     },
     "metadata": {},
     "output_type": "display_data"
    }
   ],
   "source": [
    "xmin1 , xmax1, xmin2, xmax2 = np.min(X_two[:, 0]), np.max(X_two[:, 0]), np.min(X_two[:, 1]), np.max(X_two[:, 1])\n",
    "\n",
    "\n",
    "ij = [(0, 1),(0, 2),(1, 2)]\n",
    "markers = [u'x', u'+', '*']\n",
    "colors = ['r','g','y']\n",
    "plt.title('Linear Kernel SVC')\n",
    "\n",
    "for m, c, X_val in zip(markers, colors, truth):\n",
    "    plt.scatter(X_val[:, 0], X_val[:, 1], c=c, marker = m, s=30)\n",
    "\n",
    "for i in range(3):\n",
    "    X_split, y_split = onevone(X_two, y, ij[i][0], ij[i][1])\n",
    "    support_vector = np.reshape([X_split[i] for i, v in enumerate(np.dot(X_split,weights[i])+bias[i]) if(abs(abs(v)-1)<=1e-1)], (-1,2))\n",
    "    plt.scatter(support_vector[:, 0],support_vector[:, 1], c='k', marker=u'o', cmap=plt.cm.coolwarm, s=30)\n",
    "    \n",
    "\n",
    "x_pos,y_pos = meshgrid(X_two[:,0],X_two[:,1])\n",
    "\n",
    "\n",
    "predict_value = predict(x_pos, y_pos, ij, weights, bias)\n",
    "\n",
    "plt.contourf(x_pos, y_pos, predict_value, cmap=plt.cm.coolwarm, alpha=0.3)\n",
    "plt.xlim(xmin1, xmax1)\n",
    "plt.ylim(xmin2, xmax2)\n",
    "plt.xlabel('Sepal length')\n",
    "plt.ylabel('Sepal width')\n",
    "plt.show()"
   ]
  },
  {
   "cell_type": "markdown",
   "metadata": {},
   "source": [
    "# (2) Poly"
   ]
  },
  {
   "cell_type": "code",
   "execution_count": null,
   "metadata": {
    "collapsed": false
   },
   "outputs": [
    {
     "name": "stdout",
     "output_type": "stream",
     "text": [
      "********************************************************************************\n",
      "label: 0, label: 1\n",
      "Iter 100: train acc, 1.000000\n",
      "Iter 200: train acc, 1.000000\n",
      "Iter 300: train acc, 1.000000\n",
      "Iter 400: train acc, 1.000000\n",
      "Iter 500: train acc, 1.000000\n",
      "Iter 600: train acc, 0.960000\n",
      "Iter 700: train acc, 1.000000\n",
      "Iter 800: train acc, 1.000000\n",
      "Iter 900: train acc, 1.000000\n",
      "Iter 1000: train acc, 1.000000\n",
      "********************************************************************************\n",
      "label: 0, label: 2\n",
      "Iter 100: train acc, 1.000000\n",
      "Iter 200: train acc, 1.000000\n",
      "Iter 300: train acc, 0.980000\n",
      "Iter 400: train acc, 1.000000\n",
      "Iter 500: train acc, 1.000000\n",
      "Iter 600: train acc, 0.990000\n",
      "Iter 700: train acc, 1.000000\n",
      "Iter 800: train acc, 1.000000\n",
      "Iter 900: train acc, 0.990000\n",
      "Iter 1000: train acc, 1.000000\n",
      "********************************************************************************\n",
      "label: 1, label: 2\n",
      "Iter 100: train acc, 0.740000\n",
      "Iter 200: train acc, 0.650000\n",
      "Iter 300: train acc, 0.700000\n",
      "Iter 400: train acc, 0.640000\n",
      "Iter 500: train acc, 0.730000\n",
      "Iter 600: train acc, 0.730000\n",
      "Iter 700: train acc, 0.740000\n"
     ]
    }
   ],
   "source": [
    "X_two = X[:,:2]\n",
    "\n",
    "weights = []\n",
    "bias = []\n",
    "for i in range(2):\n",
    "    for j in range(i+1,3):\n",
    "        X_train,y_train =  onevone(X_two,y,i,j)\n",
    "        print('*'*80)\n",
    "        print('label: %d, label: %d' % (i, j))\n",
    "        svm = SVM(X_train,y_train,polydegree =2, types = 'poly')\n",
    "        svm.train() \n",
    "        #svm.train() \n",
    "        weights.append(svm.alpha)\n",
    "        bias.append(svm.bias)"
   ]
  },
  {
   "cell_type": "code",
   "execution_count": null,
   "metadata": {
    "collapsed": false
   },
   "outputs": [],
   "source": [
    "def poly(w, b, x, x_split, y_split, degree):\n",
    "    kernel  = np.dot(x_split, x)**degree\n",
    "    return np.dot(w*y_split, kernel) + b"
   ]
  },
  {
   "cell_type": "code",
   "execution_count": null,
   "metadata": {
    "collapsed": false
   },
   "outputs": [],
   "source": [
    "xmin1 , xmax1, xmin2, xmax2 = np.min(X_two[:, 0]), np.max(X_two[:, 0]), np.min(X_two[:, 1]), np.max(X_two[:, 1])\n",
    "\n",
    "\n",
    "ij = [(0, 1),(0, 2),(1, 2)]\n",
    "markers = [u'x', u'+', '*']\n",
    "colors = ['r','g','y']\n",
    "\n",
    "plt.title('Poly Kernel SVC')\n",
    "\n",
    "for m, c, X_val in zip(markers, colors, truth):\n",
    "    plt.scatter(X_val[:, 0], X_val[:, 1], c=c, marker = m, s=30)\n",
    "\n",
    "for i in range(3):\n",
    "    X_split, y_split = onevone(X_two, y, ij[i][0], ij[i][1])\n",
    "    support_vector = np.reshape([X_split[i] for i, v in enumerate([poly(weights[i],bias[i],x,X_split,y_split, 2) for x in X_split])if(abs(abs(v)-1)<=1e-2)], (-1,2))\n",
    "    plt.scatter(support_vector[:, 0],support_vector[:, 1], c='k', marker=u'o', cmap=plt.cm.coolwarm, s=30)\n",
    "\n",
    "x_pos,y_pos = meshgrid(X_two[:,0], X_two[:,1])\n",
    "\n",
    "predict_value = predict(x_pos, y_pos, ij, weights, bias, x_train = X_two, types = 'poly' )\n",
    "\n",
    "plt.contourf(x_pos, y_pos, predict_value, cmap=plt.cm.coolwarm, alpha = 0.3)\n",
    "plt.xlim(xmin1, xmax1)\n",
    "plt.ylim(xmin2, xmax2)\n",
    "plt.xlabel('Sepal length')\n",
    "plt.ylabel('Sepal width')\n",
    "plt.show()"
   ]
  },
  {
   "cell_type": "markdown",
   "metadata": {},
   "source": [
    "# LDA"
   ]
  },
  {
   "cell_type": "code",
   "execution_count": null,
   "metadata": {
    "collapsed": true
   },
   "outputs": [],
   "source": [
    "from scipy import linalg"
   ]
  },
  {
   "cell_type": "markdown",
   "metadata": {},
   "source": [
    "# (3)"
   ]
  },
  {
   "cell_type": "code",
   "execution_count": null,
   "metadata": {
    "collapsed": true
   },
   "outputs": [],
   "source": [
    "class LDA(object):\n",
    "    def __init__(self, X, y):\n",
    "             \n",
    "        X = copy.deepcopy(X)\n",
    "        y = copy.deepcopy(y)\n",
    "        self.xlen, self.xdim = X.shape\n",
    "        self.X_train = X\n",
    "        self.X_mean = X.mean(axis=0)\n",
    "        self.X_train -= self.X_mean\n",
    "        self.X_train = self.X_train.astype(float)\n",
    "\n",
    "        self.y_train = y\n",
    "    \n",
    "    def fit(self):\n",
    "\n",
    "        labels = np.unique(self.y_train)\n",
    "        s_w = np.zeros((self.xdim, self.xdim))\n",
    "        s_b = np.zeros((self.xdim, self.xdim))\n",
    "        \n",
    "        cov = np.cov(self.X_train.transpose())\n",
    "     \n",
    "        for i in labels:\n",
    "            x_c = np.squeeze(self.X_train[np.where(y == i)])\n",
    "            label_cov = np.cov(x_c.T)\n",
    "            s_w += float(len(x_c)) / self.xlen * label_cov\n",
    "        \n",
    "        s_b = cov - s_w\n",
    "        \n",
    "        evals, evecs = linalg.eig(s_w, s_b)\n",
    "\n",
    "        np.ascontiguousarray(evals)\n",
    "        np.ascontiguousarray(evecs)\n",
    "\n",
    "        idx = np.argsort(evals)[::-1]\n",
    "        self.evecs = evecs[:, idx]\n",
    "        \n",
    "    def transform(self, reduce_dimension, X_train=None):\n",
    "        \n",
    "        evecs_dim = self.evecs[:, :reduce_dimension]\n",
    "        \n",
    "        if X_train == None:\n",
    "            return np.dot(self.X_train, evecs_dim)\n",
    "        else:\n",
    "            return np.dot(X_train - self.X_mean, evecs_dim)\n",
    "    \n",
    "    def fit_transform(self, reduce_dim):\n",
    "    \n",
    "        self.fit()\n",
    "        return self.transform(reduce_dim)\n",
    "    "
   ]
  },
  {
   "cell_type": "code",
   "execution_count": null,
   "metadata": {
    "collapsed": false
   },
   "outputs": [],
   "source": [
    "lda = LDA(X, y)\n",
    "x_lda = lda.fit_transform(2)"
   ]
  },
  {
   "cell_type": "code",
   "execution_count": null,
   "metadata": {
    "collapsed": false
   },
   "outputs": [],
   "source": [
    "lda_truth = [[],[],[]]\n",
    "lda_truth[0] = x_lda[ np.where(y==0)]\n",
    "lda_truth[1] = x_lda[ np.where(y==1)]\n",
    "lda_truth[2] = x_lda[ np.where(y==2)]"
   ]
  },
  {
   "cell_type": "code",
   "execution_count": null,
   "metadata": {
    "collapsed": false,
    "scrolled": true
   },
   "outputs": [],
   "source": [
    "plt.title('LDA')\n",
    "for m,c, X_l in zip(markers, colors, lda_truth):\n",
    "    plt.scatter(X_l[:, 0], X_l[:, 1], c=c, marker=m, cmap=plt.cm.coolwarm, s = 30)\n",
    "\n",
    "plt.xlabel('reduce1')\n",
    "plt.ylabel('reduce2')\n",
    "plt.show()"
   ]
  },
  {
   "cell_type": "code",
   "execution_count": null,
   "metadata": {
    "collapsed": false
   },
   "outputs": [],
   "source": [
    "weights = []\n",
    "bias = []\n",
    "for i in range(2):\n",
    "    for j in range(i+1,3):\n",
    "        X_train,y_train = onevone(x_lda, y, i, j)\n",
    "        print('*'*80)\n",
    "        print('label: %d, label: %d' % (i, j))\n",
    "        svm = SVM(X_train, y_train, polydegree = 2, types = 'linear')\n",
    "        svm.train() \n",
    "        weights.append(svm.weights)\n",
    "        bias.append(svm.bias)"
   ]
  },
  {
   "cell_type": "code",
   "execution_count": null,
   "metadata": {
    "collapsed": false
   },
   "outputs": [],
   "source": [
    "xmin1 , xmax1, xmin2, xmax2 = np.min(x_lda[:, 0]), np.max(x_lda[:, 0]), np.min(x_lda[:, 1]), np.max(x_lda[:, 1])\n",
    "\n",
    "\n",
    "ij = [(0,1),(0,2),(1,2)]\n",
    "markers = ['*', u'+', u'x']\n",
    "colors = ['r','g','y']\n",
    "plt.title('SVC with linear kernel and LDA')\n",
    "\n",
    "for m,c, X_l in zip(markers, colors, lda_truth):\n",
    "    plt.scatter(X_l[:, 0], X_l[:, 1], c=c, marker=m, cmap=plt.cm.coolwarm, s = 30)\n",
    "\n",
    "for i in range(3):\n",
    "    X_split, y_split = onevone(x_lda, y, ij[i][0], ij[i][1])\n",
    "    support_vector = np.reshape([X_split[i] for i, v in enumerate(np.dot(X_split,weights[i])+bias[i]) if(abs(abs(v)-1)<=1e-1)], (-1,2))\n",
    "    plt.scatter(support_vector[:, 0],support_vector[:, 1],c='k',marker=u'o',cmap=plt.cm.coolwarm, s = 30)\n",
    "\n",
    "x_pos,y_pos = meshgrid(x_lda[:,0],x_lda[:,1])\n",
    "predict_value = predict(x_pos, y_pos, ij, weights, bias)\n",
    "\n",
    "plt.contourf(x_pos, y_pos, predict_value, cmap=plt.cm.coolwarm, alpha=0.3)\n",
    "plt.xlim(xmin1, xmax1)\n",
    "plt.ylim(xmin2, xmax2)\n",
    "\n",
    "plt.xlabel('reduce1')\n",
    "plt.ylabel('reduce2')\n",
    "plt.show()"
   ]
  },
  {
   "cell_type": "markdown",
   "metadata": {},
   "source": [
    "# (4)"
   ]
  },
  {
   "cell_type": "code",
   "execution_count": null,
   "metadata": {
    "collapsed": false
   },
   "outputs": [],
   "source": [
    "weights = []\n",
    "bias = []\n",
    "for i in range(2):\n",
    "    for j in range(i+1,3):\n",
    "        X_train,y_train = onevone(x_lda, y, i, j)\n",
    "        print('*'*80)\n",
    "        print('label: %d, label: %d' % (i, j))\n",
    "        svm = SVM(X_train, y_train, polydegree = 2, types = 'poly')\n",
    "        svm.train() \n",
    "        weights.append(svm.alpha)\n",
    "        bias.append(svm.bias)"
   ]
  },
  {
   "cell_type": "code",
   "execution_count": null,
   "metadata": {
    "collapsed": false
   },
   "outputs": [],
   "source": [
    "xmin1 , xmax1, xmin2, xmax2 = np.min(x_lda[:, 0]), np.max(x_lda[:, 0]), np.min(x_lda[:, 1]), np.max(x_lda[:, 1])\n",
    "\n",
    "\n",
    "ij = [(0,1),(0,2),(1,2)]\n",
    "markers = ['*', u'+', u'x']\n",
    "colors = ['r','g','y']\n",
    "plt.title('SVC with Poly kernel and LDA')\n",
    "\n",
    "for m,c, X_l in zip(markers, colors, lda_truth):\n",
    "    plt.scatter(X_l[:, 0], X_l[:, 1], c=c, marker=m, cmap=plt.cm.coolwarm, s = 30)\n",
    "\n",
    "for i in range(3):\n",
    "    X_split, y_split = onevone(x_lda, y, ij[i][0], ij[i][1])\n",
    "    support_vector = np.reshape([X_split[i] for i, v in enumerate([poly(weights[i],bias[i],x,X_split,y_split, 2) for x in X_split])if(abs(abs(v)-1)<=1e-2)], (-1,2))\n",
    "    plt.scatter(support_vector[:, 0],support_vector[:, 1],c='k',marker=u'o',cmap=plt.cm.coolwarm, s = 30)\n",
    "\n",
    "x_pos,y_pos = meshgrid(x_lda[:,0],x_lda[:,1])\n",
    "predict_value =  predict(x_pos, y_pos, ij, weights, bias, x_train = x_lda, types = 'poly' )\n",
    "\n",
    "plt.contourf(x_pos, y_pos, predict_value, cmap=plt.cm.coolwarm, alpha=0.3)\n",
    "plt.xlim(xmin1, xmax1)\n",
    "plt.ylim(xmin2, xmax2)\n",
    "\n",
    "plt.xlabel('reduce1')\n",
    "plt.ylabel('reduce2')\n",
    "plt.show()"
   ]
  },
  {
   "cell_type": "markdown",
   "metadata": {},
   "source": [
    "# (5)"
   ]
  },
  {
   "cell_type": "markdown",
   "metadata": {},
   "source": [
    "### 1\n",
    "influence of dimension reduction and the difference:\n",
    "\n",
    "Comapare to (1) and (3)  SVM train better  and faster when we use LDA. because LDA can make same features more closer and make speartion better. Also, it is diffcult for machine to learn so many features to classify at the same time, when we reduce features efficiently, it can make machine eaiser to classify."
   ]
  },
  {
   "cell_type": "markdown",
   "metadata": {},
   "source": [
    "### 2 \n",
    "\n",
    "As we can see from the below, we split every features to train SVM, and the best accuracy of every classification(0&1, 0&2, 1&2) is feature4."
   ]
  },
  {
   "cell_type": "code",
   "execution_count": null,
   "metadata": {
    "collapsed": false
   },
   "outputs": [],
   "source": [
    "X_feature = X[:, 0:1]\n",
    "\n",
    "weights = []\n",
    "bias = []\n",
    "for i in range(2):\n",
    "    for j in range(i+1,3):\n",
    "        X_train,y_train =  onevone(X_feature,y,i,j)\n",
    "        print('*'*80)\n",
    "        print('label: %d, label: %d' % (i, j))\n",
    "        svm = SVM(X_train,y_train, polydegree =2, types = 'linear')\n",
    "        svm.train() \n",
    "        weights.append(svm.weights)\n",
    "        bias.append(svm.bias)"
   ]
  },
  {
   "cell_type": "code",
   "execution_count": null,
   "metadata": {
    "collapsed": false
   },
   "outputs": [],
   "source": [
    "X_feature = X[:, 1:2]\n",
    "\n",
    "weights = []\n",
    "bias = []\n",
    "for i in range(2):\n",
    "    for j in range(i+1,3):\n",
    "        X_train,y_train =  onevone(X_feature,y,i,j)\n",
    "        print('*'*80)\n",
    "        print('label: %d, label: %d' % (i, j))\n",
    "        svm = SVM(X_train,y_train, polydegree =2, types = 'linear')\n",
    "        svm.train() \n",
    "        weights.append(svm.weights)\n",
    "        bias.append(svm.bias)"
   ]
  },
  {
   "cell_type": "code",
   "execution_count": null,
   "metadata": {
    "collapsed": false
   },
   "outputs": [],
   "source": [
    "X_feature = X[:, 2:3]\n",
    "\n",
    "weights = []\n",
    "bias = []\n",
    "for i in range(2):\n",
    "    for j in range(i+1,3):\n",
    "        X_train,y_train =  onevone(X_feature,y,i,j)\n",
    "        print('*'*80)\n",
    "        print('label: %d, label: %d' % (i, j))\n",
    "        svm = SVM(X_train,y_train, polydegree =2, types = 'linear')\n",
    "        svm.train() \n",
    "        weights.append(svm.weights)\n",
    "        bias.append(svm.bias)"
   ]
  },
  {
   "cell_type": "code",
   "execution_count": null,
   "metadata": {
    "collapsed": false
   },
   "outputs": [],
   "source": [
    "X_feature = X[:, 3:4]\n",
    "\n",
    "weights = []\n",
    "bias = []\n",
    "for i in range(2):\n",
    "    for j in range(i+1,3):\n",
    "        X_train,y_train =  onevone(X_feature,y,i,j)\n",
    "        print('*'*80)\n",
    "        print('label: %d, label: %d' % (i, j))\n",
    "        svm = SVM(X_train,y_train, polydegree =2, types = 'linear')\n",
    "        svm.train() \n",
    "        weights.append(svm.weights)\n",
    "        bias.append(svm.bias)"
   ]
  }
 ],
 "metadata": {
  "kernelspec": {
   "display_name": "Python 3",
   "language": "python",
   "name": "python3"
  },
  "language_info": {
   "codemirror_mode": {
    "name": "ipython",
    "version": 3
   },
   "file_extension": ".py",
   "mimetype": "text/x-python",
   "name": "python",
   "nbconvert_exporter": "python",
   "pygments_lexer": "ipython3",
   "version": "3.5.2"
  }
 },
 "nbformat": 4,
 "nbformat_minor": 2
}
